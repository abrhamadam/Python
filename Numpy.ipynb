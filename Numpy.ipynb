{
  "nbformat": 4,
  "nbformat_minor": 0,
  "metadata": {
    "colab": {
      "provenance": [],
      "authorship_tag": "ABX9TyNPNwlKqtpDdjhZzsH9YzkT",
      "include_colab_link": true
    },
    "kernelspec": {
      "name": "python3",
      "display_name": "Python 3"
    },
    "language_info": {
      "name": "python"
    }
  },
  "cells": [
    {
      "cell_type": "markdown",
      "metadata": {
        "id": "view-in-github",
        "colab_type": "text"
      },
      "source": [
        "<a href=\"https://colab.research.google.com/github/abrhamadam/Python/blob/main/Numpy.ipynb\" target=\"_parent\"><img src=\"https://colab.research.google.com/assets/colab-badge.svg\" alt=\"Open In Colab\"/></a>"
      ]
    },
    {
      "cell_type": "markdown",
      "source": [
        "### NumPy\n",
        "# numpy is a fundamental package for scientific computing in Python. It provides support for large, multi-dimensional arrays and matrices, along with a collection of mathematical functions to operate on these arrays. NumPy is widely used for numerical computations and data analysis in Python, and it serves as the foundation for many other scientific computing libraries in the Python ecosystem."
      ],
      "metadata": {
        "id": "zoV-fN-5awIp"
      }
    },
    {
      "cell_type": "code",
      "execution_count": 1,
      "metadata": {
        "colab": {
          "base_uri": "https://localhost:8080/"
        },
        "id": "ah9rm-voYq0N",
        "outputId": "2f8c9bac-2b9f-4718-ce39-f99c8866c10c"
      },
      "outputs": [
        {
          "output_type": "execute_result",
          "data": {
            "text/plain": [
              "[1, 2, 3, 4, 5, 6, 6]"
            ]
          },
          "metadata": {},
          "execution_count": 1
        }
      ],
      "source": [
        "list1= [1,2,3,4,5,6,6]\n",
        "list1\n"
      ]
    },
    {
      "cell_type": "code",
      "source": [
        "list2=[\"abrham\", \"alex\",  list1, 8]\n",
        "print(list2)"
      ],
      "metadata": {
        "colab": {
          "base_uri": "https://localhost:8080/"
        },
        "id": "LajjH_AObwwZ",
        "outputId": "e9f3e901-4877-4897-f4bc-c26a3a35b9fe"
      },
      "execution_count": 2,
      "outputs": [
        {
          "output_type": "stream",
          "name": "stdout",
          "text": [
            "['abrham', 'alex', [1, 2, 3, 4, 5, 6, 6], 8]\n"
          ]
        }
      ]
    },
    {
      "cell_type": "markdown",
      "source": [
        "# NumPy arrays are more memory efficient compared to Python lists, especially when dealing with large datasets, as they store elements in a contiguous block of memory."
      ],
      "metadata": {
        "id": "sfo9aB2_cbcU"
      }
    },
    {
      "cell_type": "code",
      "source": [
        "import numpy as np\n",
        "np1= np.array([0,1,2,3,4,5,6,7,8,9])\n",
        "np1"
      ],
      "metadata": {
        "colab": {
          "base_uri": "https://localhost:8080/"
        },
        "id": "nmjweAzqcTM9",
        "outputId": "abb323b8-2c44-4d3f-a5aa-45fe2b43ca87"
      },
      "execution_count": 3,
      "outputs": [
        {
          "output_type": "execute_result",
          "data": {
            "text/plain": [
              "array([0, 1, 2, 3, 4, 5, 6, 7, 8, 9])"
            ]
          },
          "metadata": {},
          "execution_count": 3
        }
      ]
    },
    {
      "cell_type": "code",
      "source": [
        "np1.shape"
      ],
      "metadata": {
        "colab": {
          "base_uri": "https://localhost:8080/"
        },
        "id": "qP26x5HycypI",
        "outputId": "68e45ee5-2cca-4b0b-f7dc-ec9f84447564"
      },
      "execution_count": 4,
      "outputs": [
        {
          "output_type": "execute_result",
          "data": {
            "text/plain": [
              "(10,)"
            ]
          },
          "metadata": {},
          "execution_count": 4
        }
      ]
    },
    {
      "cell_type": "code",
      "source": [
        "np2= np.arange(10)\n",
        "np2"
      ],
      "metadata": {
        "colab": {
          "base_uri": "https://localhost:8080/"
        },
        "id": "dQR3POg7dNVY",
        "outputId": "4f6d2446-8eb1-46b0-c67e-5300de932ed6"
      },
      "execution_count": 5,
      "outputs": [
        {
          "output_type": "execute_result",
          "data": {
            "text/plain": [
              "array([0, 1, 2, 3, 4, 5, 6, 7, 8, 9])"
            ]
          },
          "metadata": {},
          "execution_count": 5
        }
      ]
    },
    {
      "cell_type": "code",
      "source": [
        "np3= np.arange(1,20,3)\n",
        "print(\"np3=\" , np3)\n",
        "np4= np.zeros(10)\n",
        "print(\"np4=\"  ,np4)"
      ],
      "metadata": {
        "colab": {
          "base_uri": "https://localhost:8080/"
        },
        "id": "d9S_3oXEdzc1",
        "outputId": "68fcacf0-d33f-4af5-aa71-4e79a9744f77"
      },
      "execution_count": 6,
      "outputs": [
        {
          "output_type": "stream",
          "name": "stdout",
          "text": [
            "np3= [ 1  4  7 10 13 16 19]\n",
            "np4= [0. 0. 0. 0. 0. 0. 0. 0. 0. 0.]\n"
          ]
        }
      ]
    },
    {
      "cell_type": "code",
      "source": [
        "np5= np.zeros((1,10))\n",
        "print(\"np5=\" , np5)\n",
        "np6= np.full((10),2)\n",
        "print(\"np6=\"  ,np6)"
      ],
      "metadata": {
        "colab": {
          "base_uri": "https://localhost:8080/"
        },
        "id": "MCyp-XeleC5s",
        "outputId": "4ce5b95d-46ad-47e2-e068-3cbb623c1150"
      },
      "execution_count": 7,
      "outputs": [
        {
          "output_type": "stream",
          "name": "stdout",
          "text": [
            "np5= [[0. 0. 0. 0. 0. 0. 0. 0. 0. 0.]]\n",
            "np6= [2 2 2 2 2 2 2 2 2 2]\n"
          ]
        }
      ]
    },
    {
      "cell_type": "code",
      "source": [
        "np7=np.full((2,10),6)\n",
        "print(np7)"
      ],
      "metadata": {
        "colab": {
          "base_uri": "https://localhost:8080/"
        },
        "id": "jh0D8j0FfZUY",
        "outputId": "c3478c69-9a34-4825-ce03-7de320c9bf72"
      },
      "execution_count": 8,
      "outputs": [
        {
          "output_type": "stream",
          "name": "stdout",
          "text": [
            "[[6 6 6 6 6 6 6 6 6 6]\n",
            " [6 6 6 6 6 6 6 6 6 6]]\n"
          ]
        }
      ]
    },
    {
      "cell_type": "code",
      "source": [
        "my_list=[1,2,3,4,5]\n",
        "np8=np.array(my_list)\n",
        "np8"
      ],
      "metadata": {
        "colab": {
          "base_uri": "https://localhost:8080/"
        },
        "id": "BXCdF5qBjJoI",
        "outputId": "b0258da2-9837-40df-ec45-f11fd40b5a79"
      },
      "execution_count": 9,
      "outputs": [
        {
          "output_type": "execute_result",
          "data": {
            "text/plain": [
              "array([1, 2, 3, 4, 5])"
            ]
          },
          "metadata": {},
          "execution_count": 9
        }
      ]
    },
    {
      "cell_type": "markdown",
      "source": [
        "### slicing numpy array"
      ],
      "metadata": {
        "id": "G2_r__FIk0WD"
      }
    },
    {
      "cell_type": "code",
      "source": [
        "\n",
        "np8= np.array([0,1,2,3,4,5,6,7,8,9])\n",
        "print(np8[1:5])"
      ],
      "metadata": {
        "colab": {
          "base_uri": "https://localhost:8080/"
        },
        "id": "tjlMlmjojuzt",
        "outputId": "e32573b8-bd73-4d1c-9f9f-ca53f7e70588"
      },
      "execution_count": 13,
      "outputs": [
        {
          "output_type": "stream",
          "name": "stdout",
          "text": [
            "[1 2 3 4]\n"
          ]
        }
      ]
    },
    {
      "cell_type": "code",
      "source": [
        "print(np8[2:])"
      ],
      "metadata": {
        "colab": {
          "base_uri": "https://localhost:8080/"
        },
        "id": "Ws4VuJcskhmA",
        "outputId": "0d9ef739-7bcf-4a13-a0db-e1def9c13652"
      },
      "execution_count": 14,
      "outputs": [
        {
          "output_type": "stream",
          "name": "stdout",
          "text": [
            "[2 3 4 5 6 7 8 9]\n"
          ]
        }
      ]
    },
    {
      "cell_type": "code",
      "source": [
        "print(np8[7:])"
      ],
      "metadata": {
        "colab": {
          "base_uri": "https://localhost:8080/"
        },
        "id": "y_C5lDRFkoo-",
        "outputId": "496934bc-7796-41e5-a01c-b368e2ab972b"
      },
      "execution_count": 15,
      "outputs": [
        {
          "output_type": "stream",
          "name": "stdout",
          "text": [
            "[7 8 9]\n"
          ]
        }
      ]
    },
    {
      "cell_type": "markdown",
      "source": [
        "## Numpy Universal function"
      ],
      "metadata": {
        "id": "YEO8-qp9UpkL"
      }
    },
    {
      "cell_type": "code",
      "source": [
        "import numpy as np\n",
        "\n",
        "# Mathematical functions\n",
        "np9 = np.array([0, 1, 2, 3])\n",
        "print(np.sin(np9))  # Compute sine of each element\n",
        "print(np.exp(np9))  # Compute exponential of each element\n",
        "\n",
        "# Arithmetic operations\n",
        "np10 = np.array([1, 2, 3, 4])\n",
        "np11 = np.array([5, 6, 7, 8])\n",
        "# addition\n",
        "print(np.add(np10, np11))\n",
        " #  subtraction\n",
        "print(np.subtract(np10, np11))\n"
      ],
      "metadata": {
        "id": "IlTgNde1ktTg",
        "colab": {
          "base_uri": "https://localhost:8080/"
        },
        "outputId": "20049aa4-6d6b-4be4-b207-0fa35fa6843b"
      },
      "execution_count": 17,
      "outputs": [
        {
          "output_type": "stream",
          "name": "stdout",
          "text": [
            "[0.         0.84147098 0.90929743 0.14112001]\n",
            "[ 1.          2.71828183  7.3890561  20.08553692]\n",
            "[ 6  8 10 12]\n",
            "[-4 -4 -4 -4]\n"
          ]
        }
      ]
    },
    {
      "cell_type": "markdown",
      "source": [
        "## Numpy array copy vs view"
      ],
      "metadata": {
        "id": "fcgvbqKFbO5B"
      }
    },
    {
      "cell_type": "markdown",
      "source": [
        "# a/ copy"
      ],
      "metadata": {
        "id": "zqLvbznQeOnz"
      }
    },
    {
      "cell_type": "code",
      "source": [
        "#copy of array\n",
        "np12 = np.array([1, 2, 3])\n",
        " # Creating a copy\n",
        "np13 = np12.copy()\n",
        "# Modifying the copy\n",
        "np13[0] = 100\n",
        "print(np12)\n",
        "print(np13)\n"
      ],
      "metadata": {
        "colab": {
          "base_uri": "https://localhost:8080/"
        },
        "id": "40oyKFRua2i3",
        "outputId": "272ff7d1-c968-4325-a2d9-b8a95fab2807"
      },
      "execution_count": 19,
      "outputs": [
        {
          "output_type": "stream",
          "name": "stdout",
          "text": [
            "[1 2 3]\n",
            "[100   2   3]\n"
          ]
        }
      ]
    },
    {
      "cell_type": "markdown",
      "source": [
        "## b/ view"
      ],
      "metadata": {
        "id": "ouwpLuRceaKw"
      }
    },
    {
      "cell_type": "code",
      "source": [
        "np14 = np.array([1, 2, 3])\n",
        "np15 = np14.view()  # Creating a view\n",
        "np15[0] = 100  # Modifying the view\n",
        "print(np14)  # Output: [100 2 3]\n",
        "print(np15)  # Output: [100 2 3]\n"
      ],
      "metadata": {
        "colab": {
          "base_uri": "https://localhost:8080/"
        },
        "id": "HLPXG7B5eYGu",
        "outputId": "25c4167a-4fab-4e9c-94fa-2380d7d52f48"
      },
      "execution_count": 20,
      "outputs": [
        {
          "output_type": "stream",
          "name": "stdout",
          "text": [
            "[100   2   3]\n",
            "[100   2   3]\n"
          ]
        }
      ]
    },
    {
      "cell_type": "markdown",
      "source": [
        "## Numpy shape and reshaping"
      ],
      "metadata": {
        "id": "Y4nmPcgVfelJ"
      }
    },
    {
      "cell_type": "code",
      "source": [
        "np16 = np.array([1,2,3,4,5,6,7,8,9,10,11,12])\n",
        "print(np16)"
      ],
      "metadata": {
        "colab": {
          "base_uri": "https://localhost:8080/"
        },
        "id": "hxusK-hoeYQ_",
        "outputId": "d5c22b28-3fea-4b62-8cff-ad7b46c90e8d"
      },
      "execution_count": 21,
      "outputs": [
        {
          "output_type": "stream",
          "name": "stdout",
          "text": [
            "[ 1  2  3  4  5  6  7  8  9 10 11 12]\n"
          ]
        }
      ]
    },
    {
      "cell_type": "code",
      "source": [
        "np16.shape"
      ],
      "metadata": {
        "colab": {
          "base_uri": "https://localhost:8080/"
        },
        "id": "6NVePxehgEBs",
        "outputId": "8c21a1d8-9d94-41ab-d4f2-199bd664fded"
      },
      "execution_count": 22,
      "outputs": [
        {
          "output_type": "execute_result",
          "data": {
            "text/plain": [
              "(12,)"
            ]
          },
          "metadata": {},
          "execution_count": 22
        }
      ]
    },
    {
      "cell_type": "code",
      "source": [
        "np17 = np.array([[1,2,3,4,5,6], [7,8,9,10,11,12]])\n",
        "print(np17)"
      ],
      "metadata": {
        "colab": {
          "base_uri": "https://localhost:8080/"
        },
        "id": "-jtdAjdLgJV-",
        "outputId": "936083ff-8b00-4ca3-dd33-d2e3bace7a24"
      },
      "execution_count": 27,
      "outputs": [
        {
          "output_type": "stream",
          "name": "stdout",
          "text": [
            "[[ 1  2  3  4  5  6]\n",
            " [ 7  8  9 10 11 12]]\n"
          ]
        }
      ]
    },
    {
      "cell_type": "code",
      "source": [
        "np17.shape"
      ],
      "metadata": {
        "colab": {
          "base_uri": "https://localhost:8080/"
        },
        "id": "IzvMvsmRgXu8",
        "outputId": "f1a18d54-0575-410c-cbb9-4409b8e053c8"
      },
      "execution_count": 28,
      "outputs": [
        {
          "output_type": "execute_result",
          "data": {
            "text/plain": [
              "(2, 6)"
            ]
          },
          "metadata": {},
          "execution_count": 28
        }
      ]
    },
    {
      "cell_type": "code",
      "source": [
        "np18= np16.reshape(2,3,2)\n",
        "np18"
      ],
      "metadata": {
        "colab": {
          "base_uri": "https://localhost:8080/"
        },
        "id": "3pN_Vpt5guj6",
        "outputId": "a89dd78c-48e3-4152-dd81-4c378e738fd6"
      },
      "execution_count": 29,
      "outputs": [
        {
          "output_type": "execute_result",
          "data": {
            "text/plain": [
              "array([[[ 1,  2],\n",
              "        [ 3,  4],\n",
              "        [ 5,  6]],\n",
              "\n",
              "       [[ 7,  8],\n",
              "        [ 9, 10],\n",
              "        [11, 12]]])"
            ]
          },
          "metadata": {},
          "execution_count": 29
        }
      ]
    },
    {
      "cell_type": "markdown",
      "source": [
        "## for iterating through numpy array"
      ],
      "metadata": {
        "id": "qunXeNmphskU"
      }
    },
    {
      "cell_type": "code",
      "source": [
        "np19 = np.array([1, 2, 3, 4, 5])\n",
        "\n",
        "# Using a for loop to iterate through the array\n",
        "for element in np19:\n",
        "    print(element)\n"
      ],
      "metadata": {
        "colab": {
          "base_uri": "https://localhost:8080/"
        },
        "id": "9sTqXLOBhT-A",
        "outputId": "eb943b51-93d6-4cb4-fa95-3c86dea86f94"
      },
      "execution_count": 30,
      "outputs": [
        {
          "output_type": "stream",
          "name": "stdout",
          "text": [
            "1\n",
            "2\n",
            "3\n",
            "4\n",
            "5\n"
          ]
        }
      ]
    },
    {
      "cell_type": "code",
      "source": [
        "arr_2d = np.array([[1, 2, 3],\n",
        "                   [4, 5, 6],\n",
        "                   [7, 8, 9]])\n",
        "\n",
        "# Using nested loops to iterate through the 2D array\n",
        "for row in arr_2d:\n",
        "    for element in row:\n",
        "        print(element)\n"
      ],
      "metadata": {
        "colab": {
          "base_uri": "https://localhost:8080/"
        },
        "id": "CV_Pogqlh7ci",
        "outputId": "0a9b2138-5fa8-43c4-a91d-f178ae84947b"
      },
      "execution_count": 31,
      "outputs": [
        {
          "output_type": "stream",
          "name": "stdout",
          "text": [
            "1\n",
            "2\n",
            "3\n",
            "4\n",
            "5\n",
            "6\n",
            "7\n",
            "8\n",
            "9\n"
          ]
        }
      ]
    },
    {
      "cell_type": "code",
      "source": [
        "arr_3d = np.array([[[1, 2, 3],\n",
        "                    [4, 5, 6]],\n",
        "                   [[7, 8, 9],\n",
        "                    [10, 11, 12]]])\n",
        "\n",
        "# Using nested loops to iterate through the 3D array\n",
        "for matrix in arr_3d:\n",
        "    for row in matrix:\n",
        "        for element in row:\n",
        "            print(element)\n"
      ],
      "metadata": {
        "colab": {
          "base_uri": "https://localhost:8080/"
        },
        "id": "DeICm8AkiVpL",
        "outputId": "3c3dc514-2a9b-48d1-a3cf-7d3e127150b4"
      },
      "execution_count": 32,
      "outputs": [
        {
          "output_type": "stream",
          "name": "stdout",
          "text": [
            "1\n",
            "2\n",
            "3\n",
            "4\n",
            "5\n",
            "6\n",
            "7\n",
            "8\n",
            "9\n",
            "10\n",
            "11\n",
            "12\n"
          ]
        }
      ]
    },
    {
      "cell_type": "markdown",
      "source": [
        "## sorting numpy array"
      ],
      "metadata": {
        "id": "UHAQA2aTiwge"
      }
    },
    {
      "cell_type": "code",
      "source": [
        "np20 = np.array([3, 1, 2, 5, 4])\n",
        "\n",
        "sorted_arr = np.sort(np20)\n",
        "print(sorted_arr)  # sorted: [1 2 3 4 5]\n",
        "\n",
        "\n",
        "np20.sort()\n",
        "print(np20)  # sorted: [1 2 3 4 5]\n"
      ],
      "metadata": {
        "colab": {
          "base_uri": "https://localhost:8080/"
        },
        "id": "yO0ZYNFyiyFg",
        "outputId": "71ae23bf-fadb-4525-bc59-f3351dbb1ec6"
      },
      "execution_count": 34,
      "outputs": [
        {
          "output_type": "stream",
          "name": "stdout",
          "text": [
            "[1 2 3 4 5]\n",
            "[1 2 3 4 5]\n"
          ]
        }
      ]
    },
    {
      "cell_type": "markdown",
      "source": [
        "## Searching through numpy array"
      ],
      "metadata": {
        "id": "X4-g0lscje_v"
      }
    },
    {
      "cell_type": "code",
      "source": [
        "\n",
        "\n",
        "np21 = np.array([1, 2, 3, 4, 5])\n",
        "\n",
        "\n",
        "indices = np.where(np21 == 3)\n",
        "print(indices)  #search: (array([2]),)\n",
        "\n",
        "valor = np21[indices[0][0]]\n",
        "print(valor)  # Search: 3\n"
      ],
      "metadata": {
        "colab": {
          "base_uri": "https://localhost:8080/"
        },
        "id": "gYSLyFxsjde6",
        "outputId": "c4f15493-b52a-4534-e0d0-bdc0b5fc6cac"
      },
      "execution_count": 36,
      "outputs": [
        {
          "output_type": "stream",
          "name": "stdout",
          "text": [
            "(array([2]),)\n",
            "3\n"
          ]
        }
      ]
    }
  ]
}